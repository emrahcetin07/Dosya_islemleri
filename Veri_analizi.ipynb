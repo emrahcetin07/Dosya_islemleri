{
  "nbformat": 4,
  "nbformat_minor": 0,
  "metadata": {
    "colab": {
      "private_outputs": true,
      "provenance": [],
      "collapsed_sections": [],
      "mount_file_id": "1i8O_-oQF5MAcYs3KvWCjATgZMxS9LqDX",
      "authorship_tag": "ABX9TyNf324dD4G3KD5hnYgQIJhG",
      "include_colab_link": true
    },
    "kernelspec": {
      "name": "python3",
      "display_name": "Python 3"
    },
    "language_info": {
      "name": "python"
    },
    "accelerator": "GPU"
  },
  "cells": [
    {
      "cell_type": "markdown",
      "metadata": {
        "id": "view-in-github",
        "colab_type": "text"
      },
      "source": [
        "<a href=\"https://colab.research.google.com/github/emrahcetin07/Dosya_islemleri/blob/main/Veri_analizi.ipynb\" target=\"_parent\"><img src=\"https://colab.research.google.com/assets/colab-badge.svg\" alt=\"Open In Colab\"/></a>"
      ]
    },
    {
      "cell_type": "markdown",
      "source": [
        "Çalışmamızı drive bağlı oluştururuz.\n"
      ],
      "metadata": {
        "id": "E-IJZlrxM1T_"
      }
    },
    {
      "cell_type": "code",
      "execution_count": null,
      "metadata": {
        "id": "2O8Meq2fQhR3"
      },
      "outputs": [],
      "source": [
        "from google.colab import drive\n",
        "drive.mount('/gdrive')\n",
        "%cd /gdrive"
      ]
    },
    {
      "cell_type": "markdown",
      "source": [
        "**Kütüphanelerin dahil edilmesi ve verilerin okunması**"
      ],
      "metadata": {
        "id": "xnZhpxgoMtv6"
      }
    },
    {
      "cell_type": "code",
      "source": [
        "import pandas as pd\n",
        "import numpy as np\n",
        "import matplotlib.pyplot  as plt\n",
        "veriler = pd.read_csv('/content/drive/MyDrive/eksikveriler.csv')\n",
        "print(veriler)"
      ],
      "metadata": {
        "id": "jExYOXvmRnHs"
      },
      "execution_count": null,
      "outputs": []
    },
    {
      "cell_type": "code",
      "source": [],
      "metadata": {
        "id": "M-tbV9W4ATzD"
      },
      "execution_count": null,
      "outputs": []
    },
    {
      "cell_type": "markdown",
      "source": [
        "Eksik veriler için kod dizini"
      ],
      "metadata": {
        "id": "l4Tim7fHNE0T"
      }
    },
    {
      "cell_type": "code",
      "source": [
        "from sklearn.impute import SimpleImputer\n",
        "imputer = SimpleImputer(missing_values=np.nan, strategy='mean')\n",
        "Yas=veriler.iloc[:,1:4].values\n",
        "print(Yas)\n",
        "imputer=imputer.fit(Yas[:,1:4])\n",
        "Yas[:,1:4]=imputer.transform(Yas[:,1:4])\n",
        "print(Yas)"
      ],
      "metadata": {
        "id": "J3O4AeemWvR_"
      },
      "execution_count": null,
      "outputs": []
    },
    {
      "cell_type": "markdown",
      "source": [
        "**Kategorik verileri sayısal verilere dönüştürme:**\n"
      ],
      "metadata": {
        "id": "ND5MZc9XAfuX"
      }
    },
    {
      "cell_type": "code",
      "source": [
        "\n",
        "ulke=veriler.iloc[:,0:1].values\n",
        "print(ulke)\n",
        "from sklearn import preprocessing\n",
        "le = preprocessing.LabelEncoder()\n",
        "ulke[:, 0]=le.fit_transform(veriler.iloc[:,0])\n",
        "print(ulke)\n",
        "ohe = preprocessing.OneHotEncoder()\n",
        "ulke=ohe.fit_transform(ulke).toarray()\n",
        "print(ulke)\n",
        "\n"
      ],
      "metadata": {
        "id": "goxK-aB2AxIA"
      },
      "execution_count": null,
      "outputs": []
    },
    {
      "cell_type": "markdown",
      "source": [
        "Numpy dizileri Ddataframe dönüştürme ve birleştirme"
      ],
      "metadata": {
        "id": "atWw_ZJiNPCI"
      }
    },
    {
      "cell_type": "code",
      "source": [
        "Yas=veriler.iloc[:,1:4].values\n",
        "sonuc=pd.DataFrame(data=ulke,index=range(22),columns=['fr','tr','us'])\n",
        "print(sonuc)\n",
        "sonuc2=pd.DataFrame(data=Yas,index=range(22),columns=['boy','kilo','yas'])\n",
        "print(sonuc2)\n",
        "cinsiyet=veriler.iloc[:,-1].values\n",
        "print(cinsiyet)\n",
        "sonuc3=pd.DataFrame(data=cinsiyet,index=range(22),columns=['cinsiyet'])\n",
        "print(sonuc3)\n",
        "#dataframe birleştirme işlemi\n",
        "s=pd.concat([sonuc,sonuc2], axis=1)\n",
        "print(s)\n",
        "s2=pd.concat([s,sonuc3],axis=1)\n",
        "print(s2)\n"
      ],
      "metadata": {
        "id": "KE0zcKrIEqBy"
      },
      "execution_count": null,
      "outputs": []
    },
    {
      "cell_type": "markdown",
      "source": [
        "**Veri kümesinin eğitim ve test diye bölünmesi**\n",
        "\n",
        "\n"
      ],
      "metadata": {
        "id": "M3LG098xINzX"
      }
    },
    {
      "cell_type": "code",
      "source": [
        "from sklearn.model_selection import train_test_split#test size 0,33 yani %33 ünü test etcez  ve%67 eğitcez\n",
        "x_train,x_test,y_train,y_test=train_test_split(s,sonuc3,test_size=0.33,random_state=0)\n",
        "print(x_train)\n",
        "print(x_test)\n",
        "print(y_train)\n",
        "print(y_test)"
      ],
      "metadata": {
        "id": "eiuNhAnFITrd"
      },
      "execution_count": null,
      "outputs": []
    },
    {
      "cell_type": "markdown",
      "source": [
        "**Öznitelik(verilerin) Ölçekleme**"
      ],
      "metadata": {
        "id": "jXSQHn_yKpwr"
      }
    },
    {
      "cell_type": "code",
      "source": [
        "from sklearn.preprocessing import StandardScaler\n",
        "sc=StandardScaler()\n",
        "X_train=sc.fit_transform(x_train)\n",
        "X_test=sc.fit_transform(x_test)\n",
        "print(X_train)\n",
        "print(\"/n\")\n",
        "print(X_test)"
      ],
      "metadata": {
        "id": "aepR3gJIKubz"
      },
      "execution_count": null,
      "outputs": []
    },
    {
      "cell_type": "code",
      "source": [],
      "metadata": {
        "id": "1javecVvMDyW"
      },
      "execution_count": null,
      "outputs": []
    }
  ]
}